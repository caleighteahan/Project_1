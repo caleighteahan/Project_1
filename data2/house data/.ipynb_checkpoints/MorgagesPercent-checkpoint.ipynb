{
 "cells": [
  {
   "cell_type": "code",
   "execution_count": null,
   "id": "b28d5dd0-4257-4932-8aaa-b07822fef500",
   "metadata": {},
   "outputs": [],
   "source": [
    "import pandas as pd\n",
    "from pathlib import Path\n",
    "import matplotlib.pyplot as plt\n",
    "import numpy as np\n",
    "import pandas as pd\n"
   ]
  },
  {
   "cell_type": "code",
   "execution_count": 2,
   "id": "0917da33-ff2f-493a-827c-b9c58299c28f",
   "metadata": {},
   "outputs": [
    {
     "ename": "NameError",
     "evalue": "name 'Path' is not defined",
     "output_type": "error",
     "traceback": [
      "\u001b[1;31m---------------------------------------------------------------------------\u001b[0m",
      "\u001b[1;31mNameError\u001b[0m                                 Traceback (most recent call last)",
      "Cell \u001b[1;32mIn[2], line 2\u001b[0m\n\u001b[0;32m      1\u001b[0m \u001b[38;5;66;03m# Create a reference to the CSV and import it into a Pandas DataFrame\u001b[39;00m\n\u001b[1;32m----> 2\u001b[0m csv_Path \u001b[38;5;241m=\u001b[39m \u001b[43mPath\u001b[49m(\u001b[38;5;124m\"\u001b[39m\u001b[38;5;124mResources/StateMortgagesPercent-30-89DaysLate-thru-2022-09 (1).csv\u001b[39m\u001b[38;5;124m\"\u001b[39m)\n\u001b[0;32m      3\u001b[0m \u001b[38;5;66;03m#Desktop/Classwork/Week 7 project/data2/house data/Resources/StateMortgagesPercent-30-89DaysLate-thru-2022-09 (1).csv\u001b[39;00m\n\u001b[0;32m      4\u001b[0m price_df \u001b[38;5;241m=\u001b[39m pd\u001b[38;5;241m.\u001b[39mread_csv(csv_path)\n",
      "\u001b[1;31mNameError\u001b[0m: name 'Path' is not defined"
     ]
    }
   ],
   "source": [
    "# Create a reference to the CSV and import it into a Pandas DataFrame\n",
    "csv_Path = Path(\"Resources/StateMortgagesPercent-30-89DaysLate-thru-2022-09 (1).csv\")\n",
    "#Desktop/Classwork/Week 7 project/data2/house data/Resources/StateMortgagesPercent-30-89DaysLate-thru-2022-09 (1).csv\n",
    "price_df = pd.read_csv(csv_path)\n",
    "price_df.head()"
   ]
  },
  {
   "cell_type": "code",
   "execution_count": null,
   "id": "0a60f9cb-f6c8-46dd-9b2c-83b71ce2a73b",
   "metadata": {},
   "outputs": [],
   "source": []
  }
 ],
 "metadata": {
  "kernelspec": {
   "display_name": "Python 3 (ipykernel)",
   "language": "python",
   "name": "python3"
  },
  "language_info": {
   "codemirror_mode": {
    "name": "ipython",
    "version": 3
   },
   "file_extension": ".py",
   "mimetype": "text/x-python",
   "name": "python",
   "nbconvert_exporter": "python",
   "pygments_lexer": "ipython3",
   "version": "3.10.11"
  }
 },
 "nbformat": 4,
 "nbformat_minor": 5
}
